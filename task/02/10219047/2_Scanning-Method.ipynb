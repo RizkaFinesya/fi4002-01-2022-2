{
 "cells": [
  {
   "cell_type": "markdown",
   "id": "c736f51c",
   "metadata": {},
   "source": [
    "# Scanning Method"
   ]
  },
  {
   "cell_type": "markdown",
   "id": "23345d8f",
   "metadata": {},
   "source": [
    "$f(x)=\\cos(x+0.12\\pi)-0.20$"
   ]
  },
  {
   "cell_type": "markdown",
   "id": "8c61af96",
   "metadata": {},
   "source": [
    "Find a root in an interval using scanning method"
   ]
  },
  {
   "cell_type": "code",
   "execution_count": 2,
   "id": "d1b587f9",
   "metadata": {},
   "outputs": [
    {
     "name": "stdout",
     "output_type": "stream",
     "text": [
      "Root existance between 0 and 2 : True\n"
     ]
    }
   ],
   "source": [
    "import math\n",
    "\n",
    "def f(x):\n",
    "    y = math.cos(x + 0.12 * math.pi) - 0.20\n",
    "    return y\n",
    "\n",
    "x = [i * 0.04  for i in range(0, 100 + 1)]\n",
    "y = [f(i) for i in x]\n",
    "\n",
    "xroot = [0, 2]\n",
    "yroot = [f(i) for i in xroot]\n",
    "\n",
    "print(\"Root existance between\", xroot[0], \"and\", xroot[1], \":\", end=' ')\n",
    "if yroot[0] * yroot[1] < 0:\n",
    "    print(True)\n",
    "else:\n",
    "    print(False)"
   ]
  },
  {
   "cell_type": "code",
   "execution_count": 3,
   "id": "f372bfa0",
   "metadata": {},
   "outputs": [
    {
     "name": "stdout",
     "output_type": "stream",
     "text": [
      "Root exists between 0.0 and 2.0\n"
     ]
    }
   ],
   "source": [
    "N = 1\n",
    "xbeg = xroot[0]\n",
    "xend = xroot[1]\n",
    "dx = (xend - xbeg) / N\n",
    "\n",
    "\n",
    "sign = 0\n",
    "for i in range(N + 1):\n",
    "    xi = xbeg + i * dx\n",
    "    xi = round(xi * N) / N\n",
    "    \n",
    "    yi = f(xi)\n",
    "    if yi > 0:\n",
    "        cur_sign = 1\n",
    "    else:\n",
    "        cur_sign = -1\n",
    "    \n",
    "    if i == 0:\n",
    "        sign = cur_sign\n",
    "    \n",
    "    if cur_sign * sign < 0:\n",
    "        xleft = xi - dx\n",
    "        xright = xi\n",
    "        break\n",
    "\n",
    "print(\"Root exists between\", xleft, \"and\", xright)"
   ]
  },
  {
   "cell_type": "code",
   "execution_count": 4,
   "id": "30b6583f",
   "metadata": {},
   "outputs": [
    {
     "name": "stdout",
     "output_type": "stream",
     "text": [
      "Root exists between 0.8 and 1.0\n"
     ]
    }
   ],
   "source": [
    "N = 10\n",
    "xbeg = xroot[0]\n",
    "xend = xroot[1]\n",
    "dx = (xend - xbeg) / N\n",
    "\n",
    "\n",
    "sign = 0\n",
    "for i in range(N + 1):\n",
    "    xi = xbeg + i * dx\n",
    "    xi = round(xi * N) / N\n",
    "    \n",
    "    yi = f(xi)\n",
    "    if yi > 0:\n",
    "        cur_sign = 1\n",
    "    else:\n",
    "        cur_sign = -1\n",
    "    \n",
    "    if i == 0:\n",
    "        sign = cur_sign\n",
    "    \n",
    "    if cur_sign * sign < 0:\n",
    "        xleft = xi - dx\n",
    "        xright = xi\n",
    "        break\n",
    "\n",
    "print(\"Root exists between\", xleft, \"and\", xright)"
   ]
  },
  {
   "cell_type": "code",
   "execution_count": 5,
   "id": "a6344e41",
   "metadata": {},
   "outputs": [
    {
     "name": "stdout",
     "output_type": "stream",
     "text": [
      "Root exists between 0.98 and 1.0\n"
     ]
    }
   ],
   "source": [
    "N = 100\n",
    "xbeg = xroot[0]\n",
    "xend = xroot[1]\n",
    "dx = (xend - xbeg) / N\n",
    "\n",
    "\n",
    "sign = 0\n",
    "for i in range(N + 1):\n",
    "    xi = xbeg + i * dx\n",
    "    xi = round(xi * N) / N\n",
    "    \n",
    "    yi = f(xi)\n",
    "    if yi > 0:\n",
    "        cur_sign = 1\n",
    "    else:\n",
    "        cur_sign = -1\n",
    "    \n",
    "    if i == 0:\n",
    "        sign = cur_sign\n",
    "    \n",
    "    if cur_sign * sign < 0:\n",
    "        xleft = xi - dx\n",
    "        xright = xi\n",
    "        break\n",
    "\n",
    "print(\"Root exists between\", xleft, \"and\", xright)"
   ]
  },
  {
   "cell_type": "code",
   "execution_count": 6,
   "id": "7a626239",
   "metadata": {},
   "outputs": [
    {
     "name": "stdout",
     "output_type": "stream",
     "text": [
      "Root exists between 0.992 and 0.994\n"
     ]
    }
   ],
   "source": [
    "N = 1000\n",
    "xbeg = xroot[0]\n",
    "xend = xroot[1]\n",
    "dx = (xend - xbeg) / N\n",
    "\n",
    "\n",
    "sign = 0\n",
    "for i in range(N + 1):\n",
    "    xi = xbeg + i * dx\n",
    "    xi = round(xi * N) / N\n",
    "    \n",
    "    yi = f(xi)\n",
    "    if yi > 0:\n",
    "        cur_sign = 1\n",
    "    else:\n",
    "        cur_sign = -1\n",
    "    \n",
    "    if i == 0:\n",
    "        sign = cur_sign\n",
    "    \n",
    "    if cur_sign * sign < 0:\n",
    "        xleft = xi - dx\n",
    "        xright = xi\n",
    "        break\n",
    "\n",
    "print(\"Root exists between\", xleft, \"and\", xright)"
   ]
  },
  {
   "cell_type": "code",
   "execution_count": 7,
   "id": "10fdb63c",
   "metadata": {},
   "outputs": [
    {
     "name": "stdout",
     "output_type": "stream",
     "text": [
      "Root exists between 0.9924000000000001 and 0.9926\n"
     ]
    }
   ],
   "source": [
    "N = 10000\n",
    "xbeg = xroot[0]\n",
    "xend = xroot[1]\n",
    "dx = (xend - xbeg) / N\n",
    "\n",
    "\n",
    "sign = 0\n",
    "for i in range(N + 1):\n",
    "    xi = xbeg + i * dx\n",
    "    xi = round(xi * N) / N\n",
    "    \n",
    "    yi = f(xi)\n",
    "    if yi > 0:\n",
    "        cur_sign = 1\n",
    "    else:\n",
    "        cur_sign = -1\n",
    "    \n",
    "    if i == 0:\n",
    "        sign = cur_sign\n",
    "    \n",
    "    if cur_sign * sign < 0:\n",
    "        xleft = xi - dx\n",
    "        xright = xi\n",
    "        break\n",
    "\n",
    "print(\"Root exists between\", xleft, \"and\", xright)"
   ]
  },
  {
   "cell_type": "code",
   "execution_count": 8,
   "id": "7270fc1e",
   "metadata": {},
   "outputs": [
    {
     "name": "stdout",
     "output_type": "stream",
     "text": [
      "Root exists between 0.99244 and 0.99246\n"
     ]
    }
   ],
   "source": [
    "N = 100000\n",
    "xbeg = xroot[0]\n",
    "xend = xroot[1]\n",
    "dx = (xend - xbeg) / N\n",
    "\n",
    "\n",
    "sign = 0\n",
    "for i in range(N + 1):\n",
    "    xi = xbeg + i * dx\n",
    "    xi = round(xi * N) / N\n",
    "    \n",
    "    yi = f(xi)\n",
    "    if yi > 0:\n",
    "        cur_sign = 1\n",
    "    else:\n",
    "        cur_sign = -1\n",
    "    \n",
    "    if i == 0:\n",
    "        sign = cur_sign\n",
    "    \n",
    "    if cur_sign * sign < 0:\n",
    "        xleft = xi - dx\n",
    "        xright = xi\n",
    "        break\n",
    "\n",
    "print(\"Root exists between\", xleft, \"and\", xright)"
   ]
  },
  {
   "cell_type": "code",
   "execution_count": 12,
   "id": "20bc4fcd",
   "metadata": {},
   "outputs": [
    {
     "name": "stdout",
     "output_type": "stream",
     "text": [
      "root = 0.992445\n",
      "f(root) = 2.2413548909916425e-06\n"
     ]
    }
   ],
   "source": [
    "print(\"root = 0.992445\")\n",
    "f_root=f(0.992445)\n",
    "print(\"f(root) =\", f_root)"
   ]
  },
  {
   "cell_type": "code",
   "execution_count": null,
   "id": "9c66cab0",
   "metadata": {},
   "outputs": [],
   "source": []
  }
 ],
 "metadata": {
  "kernelspec": {
   "display_name": "Python 3 (ipykernel)",
   "language": "python",
   "name": "python3"
  },
  "language_info": {
   "codemirror_mode": {
    "name": "ipython",
    "version": 3
   },
   "file_extension": ".py",
   "mimetype": "text/x-python",
   "name": "python",
   "nbconvert_exporter": "python",
   "pygments_lexer": "ipython3",
   "version": "3.9.13"
  }
 },
 "nbformat": 4,
 "nbformat_minor": 5
}
